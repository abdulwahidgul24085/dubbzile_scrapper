{
 "cells": [
  {
   "cell_type": "code",
   "execution_count": 1,
   "metadata": {},
   "outputs": [],
   "source": [
    "from selenium import webdriver\n",
    "from selenium.webdriver.common.keys import Keys\n",
    "from bs4 import BeautifulSoup as bs\n",
    "from ast import literal_eval\n",
    "from pprint import pprint\n",
    "import pandas as pd\n",
    "import time"
   ]
  },
  {
   "cell_type": "code",
   "execution_count": 2,
   "metadata": {},
   "outputs": [],
   "source": [
    "driver = webdriver.Firefox()\n",
    "driver.get(r'https://dubai.dubizzle.com/en/property-for-rent/residential/apartmentflat/in/discovery-gardens/190/')\n"
   ]
  },
  {
   "cell_type": "code",
   "execution_count": 33,
   "metadata": {
    "scrolled": true
   },
   "outputs": [
    {
     "name": "stdout",
     "output_type": "stream",
     "text": [
      "30\n",
      "61\n",
      "91\n",
      "122\n",
      "153\n",
      "183\n",
      "214\n",
      "244\n",
      "275\n",
      "305\n",
      "336\n",
      "366\n",
      "397\n",
      "428\n",
      "458\n",
      "488\n",
      "518\n",
      "548\n",
      "579\n",
      "609\n",
      "639\n",
      "669\n",
      "699\n",
      "730\n",
      "761\n",
      "791\n",
      "821\n",
      "851\n",
      "882\n",
      "913\n",
      "944\n",
      "974\n",
      "1005\n",
      "1036\n",
      "1067\n",
      "1097\n",
      "1128\n",
      "1159\n",
      "1189\n",
      "1220\n",
      "No result page end of listing\n"
     ]
    }
   ],
   "source": [
    "total_listing = []\n",
    "exist = False\n",
    "while exist == False:\n",
    "    try:\n",
    "        driver.find_element_by_class_name('no-results-holder')\n",
    "        print('No result page end of listing')\n",
    "        exist = True\n",
    "    except Exception as e:\n",
    "        #     print('Keep Scarping')\n",
    "        page = bs(driver.page_source, 'html.parser')\n",
    "        for listing in page.find_all('a',class_='listing-link'):\n",
    "            content = literal_eval(listing.script.text)\n",
    "            total_listing.append({\n",
    "                'name':content['']['name'],\n",
    "                'price':content['']['offers']['price'],\n",
    "                'alt_price':listing.find('div', class_=\"details\").find('div', class_='price').text,\n",
    "                'url':content['']['url'],\n",
    "                'long':content['geo']['latitude'],\n",
    "                'lat':content['geo']['longitude'],\n",
    "                'floor_size':content['floorSize'],\n",
    "#                 'alt_floor_size':listing.find('div', class_='details').find_all('span',class_='float-left')[-1].text\n",
    "            })\n",
    "        driver.find_element_by_css_selector(r'a.sc-tilXH:nth-child(3)').click()\n",
    "        print(len(total_listing))\n",
    "        time.sleep(5)\n",
    "#         exist = True\n",
    "    "
   ]
  },
  {
   "cell_type": "code",
   "execution_count": 45,
   "metadata": {},
   "outputs": [],
   "source": [
    "# results = pd.DataFrame(total_listing)\n",
    "results['alt_price'] = results.alt_price.map(lambda x: x.replace('AED ', ''))"
   ]
  },
  {
   "cell_type": "code",
   "execution_count": 47,
   "metadata": {},
   "outputs": [],
   "source": [
    "results.to_csv(r'test.csv',index=False)"
   ]
  },
  {
   "cell_type": "code",
   "execution_count": 99,
   "metadata": {},
   "outputs": [],
   "source": [
    "results.to_csv(r'test.csv',index=False)"
   ]
  }
 ],
 "metadata": {
  "kernelspec": {
   "display_name": "Python 3",
   "language": "python",
   "name": "python3"
  },
  "language_info": {
   "codemirror_mode": {
    "name": "ipython",
    "version": 3
   },
   "file_extension": ".py",
   "mimetype": "text/x-python",
   "name": "python",
   "nbconvert_exporter": "python",
   "pygments_lexer": "ipython3",
   "version": "3.7.3"
  }
 },
 "nbformat": 4,
 "nbformat_minor": 2
}
